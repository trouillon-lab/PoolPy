{
 "cells": [
  {
   "cell_type": "code",
   "execution_count": 30,
   "metadata": {},
   "outputs": [],
   "source": [
    "import numpy as np\n",
    "import matplotlib.pyplot as plt\n",
    "import math\n",
    "import re\n",
    "import itertools\n",
    "import pandas as pd"
   ]
  },
  {
   "cell_type": "code",
   "execution_count": 27,
   "metadata": {},
   "outputs": [],
   "source": [
    "#Coumpound counter starts from 1\n",
    "# Helper function for binary translation\n",
    "def IntegerToBinaryTF(num: int, ls_bn: list)-> list:\n",
    "    if num >= 2:\n",
    "        ls_bn=IntegerToBinaryTF(num // 2, ls_bn)\n",
    "    ls_bn.append(num % 2==1)\n",
    "    return(ls_bn)\n",
    "\n",
    "\n",
    "# Function to assign each compound to its wells\n",
    "def well_selecter(compound: int, n_wells:int, differentiate=1) -> np.array:\n",
    "    if differentiate not in [1,2]:\n",
    "        print('For the moment this code is only able to create well assignments matrices to distinguish up to combinations of 2 active compounds')\n",
    "        return(-1)\n",
    "    if differentiate==1:\n",
    "        ls_bn=[]\n",
    "        used_wells=IntegerToBinaryTF(compound, ls_bn)\n",
    "        sel_wells=[False]*(n_wells-len(used_wells))+used_wells\n",
    "    if differentiate==2:\n",
    "        for i in range((n_wells-1)//3+1):\n",
    "            if 0<compound and compound <= n_wells-1-3*i:\n",
    "                sel_wells=(n_wells-1-3*i-compound)*[False]+[True]+i*3*[False]+[True]+[False]*(compound-1)\n",
    "                break\n",
    "            compound=compound-(n_wells-1-3*i)\n",
    "    return(np.array(sel_wells))\n",
    "    \n",
    "def get_ncomp_from_nwells(nwells: int, differentiatie=1) ->int:\n",
    "    if differentiatie==1:\n",
    "        return(2**nwells-1)\n",
    "    if differentiatie==2:\n",
    "        temp_1=((nwells-2)//3)+1\n",
    "        temp_2=temp_1-1\n",
    "        return(nwells*temp_1-(temp_2*(temp_2+1)/2*3+temp_1)) #Some algebra gives this formula\n",
    "\n",
    "\n",
    "# Functions to be called by user to create the compound-wells assignment matrix\n",
    "\n",
    "''' Method 1: Pooling using matrix design'''\n",
    "def assign_wells_mat(n_compounds:int)->np.array:\n",
    "    L1=np.ceil(np.sqrt(n_compounds))\n",
    "    L2=L1-1 if L1*(L1-1)>=n_compounds else L1\n",
    "    well_assigner=np.zeros((n_compounds, int(L1+L2)))==1\n",
    "    for i in range(n_compounds):\n",
    "        cp_id=[int(i//L1), int(L1+i % L1)]\n",
    "        well_assigner[i,cp_id]=True\n",
    "    return(well_assigner)\n",
    "\n",
    "\n",
    "''' Method 2: Pooling using binary design'''\n",
    "# This functions also identifies the minimum number of wells needed for the compounds and level of detail (differentiate) selected\n",
    "def assign_wells_L(n_compounds:int, differentiate=1) -> np.array:\n",
    "\n",
    "    if differentiate==1:\n",
    "        n_wells=int(np.ceil(np.log2(n_compounds +1)))\n",
    "    if differentiate==2:\n",
    "        tentative=int(np.floor(np.sqrt(6*n_compounds))) #empirical evidence suggest almost this scaling, mathematical proof might arrive later\n",
    "        for NW in [tentative-1,tentative,tentative+1]:\n",
    "            if get_ncomp_from_nwells(NW, differentiatie=2)>=n_compounds:\n",
    "                n_wells=NW\n",
    "                break\n",
    "        \n",
    "    well_assigner=np.zeros((n_compounds, n_wells))==1\n",
    "    for i in range(n_compounds):\n",
    "        well_assigner[i,:]=well_selecter(i+1, n_wells, differentiate)\n",
    "    return(well_assigner)\n",
    "\n",
    "\n",
    "''' Method 3: Pooling using multidimensional matrix design'''\n",
    "def assign_wells_multidim(n_compounds:int, n_dims:int)->np.array:\n",
    "    L1=np.ceil(np.pow(n_compounds, 1/n_dims))\n",
    "    i=0\n",
    "    while np.pow(L1, n_dims-i-1)*np.pow(L1-1, i+1)>n_compounds:\n",
    "        i=i+1\n",
    "    ls_dim=[L1]*(n_dims-i)+[L1-1]*i\n",
    "    up_samps=np.prod(np.array(ls_dim))\n",
    "    well_assigner=np.zeros((n_compounds, int(L1*(n_dims-i)+(L1-1)*i)))==1\n",
    "    for j in range(n_compounds):\n",
    "        cp_id=[]\n",
    "        jj=j.copy()\n",
    "        rem_dim=up_samps\n",
    "        for k in range(n_dims):\n",
    "            rem_dim=rem_dim/ls_dim[k]\n",
    "            js=jj//rem_dim\n",
    "            jj=jj-js*rem_dim\n",
    "            cp_id.append(js)\n",
    "        well_assigner[i,cp_id]=True\n",
    "    return(well_assigner)\n",
    "\n",
    "\n",
    "''' Method 4: Pooling using random design'''\n",
    "def assign_wells_random(n_compounds:int, n_compounds_per_well:int, n_wells:int, guesses:int, differentiate:int)->np.array:\n",
    "    min_tests=n_compounds**2\n",
    "    second_axis=np.tile(np.arange(n_wells),n_compounds_per_well).reshape(n_compounds_per_well,-1)\n",
    "    for i in range(guesses):\n",
    "        idt=np.random.randint(0,n_compounds,size=(n_compounds_per_well,n_wells) )\n",
    "        well_assigner=np.zeros((n_compounds,n_wells))==1\n",
    "        well_assigner[idt, second_axis]=True\n",
    "        TF,_, counts= is_consistent(well_assigner, differentiate)\n",
    "        mean_tests=extra_tests(counts)\n",
    "        if TF:\n",
    "            return(well_assigner)\n",
    "        elif mean_tests<min_tests: \n",
    "            best_wa=well_assigner.copy()\n",
    "            min_tests=mean_tests\n",
    "    return(best_wa)\n",
    "\n",
    "\n",
    "''' Method 5: Pooling using STD design'''\n",
    "# Hopeful implementation of the Shifted Transversal Design, what an acronym!\n",
    "\n",
    "# From http://membres-timc.imag.fr/Nicolas.Thierry-Mieg/pdfs/ntm_IMA2012.pdf\n",
    "# Corollary: If there are at most t positive variables and at most E false positive and E false negative observations: \n",
    "# STD(n;q;k) is a solution, when choosing q prime such that t⋅ Г(q,n)+2⋅ E  < q,  and  k = t⋅ Г+2⋅ E+1\n",
    "\n",
    "def isprime(n:int):\n",
    "    return re.compile(r'^1?$|^(11+)\\1+$').match('1' * n) is None\n",
    "\n",
    "def get_Gamma(q,N):\n",
    "    return(int(np.ceil(np.log(N)/np.log(q))-1))\n",
    "\n",
    "def get_s(N,j,q):\n",
    "    vec=np.arange(N)\n",
    "    out_vec=vec.copy()\n",
    "    Gamma=get_Gamma(q,N)\n",
    "    for ct in range(Gamma):\n",
    "        c=ct+1\n",
    "        out_vec=out_vec+j**c*(vec//q**c)\n",
    "    return(out_vec)\n",
    "\n",
    "def STD(N,q,k):\n",
    "    L=np.zeros((k,q,N))==1\n",
    "    for j in range(k):\n",
    "        s=get_s(N,j,q)\n",
    "        s=s%q\n",
    "        idc=np.arange(N)\n",
    "        L[j,s,idc]=True\n",
    "\n",
    "    L=L.reshape(-1,N)\n",
    "    return(L.T)\n",
    "\n",
    "def assign_wells_STD(n_compounds:int, differentiate=1, False_results=0, force_q=False):\n",
    "    N=n_compounds\n",
    "    t=differentiate\n",
    "    E=False_results\n",
    "    poss_q=[x for x in range(n_compounds) if isprime(x)]\n",
    "    for q in poss_q:\n",
    "        if t*get_Gamma(q,N)+2*E<q:\n",
    "            break\n",
    "    if isprime(force_q):\n",
    "        if t*get_Gamma(force_q,N)+2*E<force_q:\n",
    "            q=force_q \n",
    "    Gamma=get_Gamma(q,N)\n",
    "    k=t*Gamma+2*E+1\n",
    "    WA=STD(N,q,k)\n",
    "    return(WA)\n",
    "\n",
    "\n",
    "''' Method comparison '''\n",
    "\n",
    "def method_comparison(n_compounds:int, differentiate=1):\n",
    "    methods=['matrix', 'multidim', 'random', 'STD']\n",
    "    WA_mat=assign_wells_mat(n_compounds,differentiate)\n",
    "    WA_mul=assign_wells_multidim(n_compounds,differentiate)\n",
    "    WA_ran=assign_wells_random(n_compounds,differentiate)\n",
    "    WA_std=assign_wells_STD(n_compounds,differentiate)\n",
    "\n",
    "    WA_list=[WA_mat,WA_mul,WA_ran,WA_std]\n",
    "\n",
    "    if differentiate==1:\n",
    "        WA_bin=assign_wells_L(n_compounds,differentiate)\n",
    "        methods.extend('bin')\n",
    "        WA_list.extend(WA_bin)\n",
    "\n",
    "    ls_met=[]\n",
    "    \n",
    "    for method, WA in zip(methods, WA_list):\n",
    "        mean_exp, _, perc_check= mean_metrics(WA, differentiate)\n",
    "        n_wells=WA.shape[1]\n",
    "        ls_met.append([n_wells, mean_exp, perc_check])\n",
    "        ls_names_met=['n_wells', 'mean_experiments', 'percentage_check']\n",
    "    df_met=pd.DataFrame(ls_met)\n",
    "    df_met.rename(index=methods, columns=ls_names_met)\n",
    "    return df_met\n",
    "\n",
    "        \n",
    "\n",
    "''' Additional Functions '''\n",
    "\n",
    "# Helper function to actually implement the experiment\n",
    "def from_well_get_compuonds(well:int, well_assigner: np.array)->np.array :\n",
    "    return(np.array(np.where(well_assigner[:,well-1]))[0]+1)\n",
    "\n",
    "def from_compound_get_wells(compound: int, well_assigner: np.array)-> np.array:\n",
    "    return(np.array(np.where(well_assigner[compound-1,:]))[1]+1)\n",
    "\n",
    "# Consistency check\n",
    "\n",
    "# def is_consistent_old(well_assigner:np.array, differentiate:int) -> list:\n",
    "#     n_comp=well_assigner.shape[0]\n",
    "#     if differentiate==1:\n",
    "#         full_well_assigner=well_assigner.copy()\n",
    "#     if differentiate==2:\n",
    "#         n_perms=int(n_comp*(n_comp-1)/2+n_comp)\n",
    "#         full_well_assigner=np.zeros((n_perms, well_assigner.shape[1]))==1\n",
    "#         full_well_assigner[-n_comp:,:]=well_assigner.copy()\n",
    "#         for i, j in enumerate(itertools.combinations(np.arange(well_assigner.shape[0]),2)):\n",
    "#             k,l=j\n",
    "#             full_well_assigner[i,:]=well_assigner[k,:]+well_assigner[l,:]\n",
    "#     if differentiate==3:\n",
    "#         n_perms=int(n_comp*(n_comp-1)*(n_comp-2)/6+n_comp*(n_comp-1)/2+n_comp)\n",
    "#         n3=int(n_comp*(n_comp-1)*(n_comp-2)/6)\n",
    "#         full_well_assigner=np.zeros((n_perms, well_assigner.shape[1]))==1\n",
    "#         full_well_assigner[-n_comp:,:]=well_assigner.copy()\n",
    "#         for i, j in enumerate(itertools.combinations(np.arange(well_assigner.shape[0]),3)):\n",
    "#             k,l,m=j\n",
    "#             full_well_assigner[i,:]=well_assigner[k,:]+well_assigner[l,:]+well_assigner[m,:]\n",
    "#         for i, j in enumerate(itertools.combinations(np.arange(well_assigner.shape[0]),2)):\n",
    "#             k,l=j\n",
    "#             full_well_assigner[i+n3,:]=well_assigner[k,:]+well_assigner[l,:]\n",
    "#     _, counts=np.unique(full_well_assigner, axis=0, return_counts=True)\n",
    "#     if np.unique(full_well_assigner, axis=0).shape[0]<full_well_assigner.shape[0]:\n",
    "#         return(False, full_well_assigner, counts)\n",
    "#     elif np.unique(full_well_assigner, axis=0).shape[0]==full_well_assigner.shape[0]:\n",
    "#         return(True,full_well_assigner, counts)\n",
    "#     else:\n",
    "#         return(\"Something is fishy\")\n",
    "    \n",
    "\n",
    "#\n",
    "def is_consistent(well_assigner:np.array, differentiate:int) -> list:\n",
    "    N=well_assigner.shape[0]\n",
    "    for i in range(differentiate):\n",
    "        diff=i+1\n",
    "        if diff ==1:\n",
    "            full_well_assigner=well_assigner.copy()\n",
    "        else:\n",
    "            N_cmbn=math.comb(N,diff)\n",
    "            temp_well_assigner=np.zeros((N_cmbn, well_assigner.shape[1]))==1\n",
    "            for l,k in enumerate(itertools.combinations(np.arange(N),diff)):\n",
    "                temp_well_assigner[l,:]=np.sum(well_assigner[k,:], axis=0).reshape(1,-1)\n",
    "            full_well_assigner=np.concatenate((full_well_assigner,temp_well_assigner))\n",
    "    _, counts=np.unique(full_well_assigner, axis=0, return_counts=True)\n",
    "    if np.unique(full_well_assigner, axis=0).shape[0]<full_well_assigner.shape[0]:\n",
    "        return(False, full_well_assigner, counts)\n",
    "    elif np.unique(full_well_assigner, axis=0).shape[0]==full_well_assigner.shape[0]:\n",
    "        return(True,full_well_assigner, counts)\n",
    "    else:\n",
    "        print(\"Something is fishy\")\n",
    "        return(-1)\n",
    "    \n",
    "#\n",
    "def decode(well_assigner:np.ndarray, readout:np.ndarray, differentiate:int) -> list:\n",
    "    N=well_assigner.shape[0]\n",
    "    for i in range(differentiate):\n",
    "        resulti=[]\n",
    "        diff=i+1\n",
    "        if diff ==1:\n",
    "            resulti.extend(list(range(well_assigner.shape[0])))\n",
    "            full_well_assigner=well_assigner.copy()\n",
    "        else:\n",
    "            N_cmbn=math.comb(N,diff)\n",
    "            temp_well_assigner=np.zeros((N_cmbn, well_assigner.shape[1]))==1\n",
    "            for l,k in enumerate(itertools.combinations(np.arange(N),diff)):\n",
    "                resulti.append(k)\n",
    "                temp_well_assigner[l,:]=np.sum(well_assigner[k,:], axis=0).reshape(1,-1)\n",
    "            full_well_assigner=np.concatenate((full_well_assigner,temp_well_assigner))\n",
    "    idxs=[i for i in range(full_well_assigner.shape[0]) if np.array_equal(full_well_assigner[i,:],readout)]\n",
    "    if len(idxs)==0:\n",
    "        print('No match')\n",
    "        return(-1)\n",
    "    \n",
    "    return [resulti[i] for i in idxs]\n",
    "        \n",
    "def extra_tests(counts:np.array)->float:\n",
    "    return(np.sum(counts*(counts-1))/np.sum(counts))\n",
    "    \n",
    "def mean_tests(well_assigner, differentiate):\n",
    "    BT=well_assigner.shape[1]\n",
    "    _,_, counts= is_consistent(well_assigner, differentiate)    \n",
    "    ET=extra_tests(counts)\n",
    "    return(BT+ET)\n",
    "\n",
    "def mean_rounds(well_assigner, differentiate):\n",
    "    _,_, counts= is_consistent(well_assigner, differentiate)\n",
    "    rounds=np.sum(counts>1)/np.sum(counts>0)+1\n",
    "    return rounds\n",
    "\n",
    "def mean_metrics(well_assigner, differentiate):\n",
    "    BT=well_assigner.shape[1]\n",
    "    _,_, counts= is_consistent(well_assigner, differentiate) \n",
    "    ET=extra_tests(counts)   \n",
    "    rounds=np.sum(counts>1)/np.sum(counts>0)+1\n",
    "    p_check=np.round(np.sum(counts>1)/np.sum(counts>0)*100)\n",
    "    return BT+ET, rounds, p_check\n",
    "\n",
    "\n",
    "# Function to export design table as .csv file\n",
    "def output_table(well_assigner:np.array,output_file_name='output_table'):\n",
    "    output_df=pd.DataFrame(well_assigner)\n",
    "    '''\n",
    "    compound_list=[f'compound_{x+1}' for x in output_df.index]\n",
    "    pool_list=[f'pool_{x+1}' for x in output_df.columns]\n",
    "    output_df.index=compound_list\n",
    "    output_df.columns=pool_list\n",
    "    '''\n",
    "    output_df.rename(columns=lambda x: 'compound_'+str(x+1), index=lambda x: 'pool_'+str(x+1), inplace=True)\n",
    "\n",
    "    output_df.to_csv(output_file_name+'.csv')\n",
    "    print('design table saved as ',output_file_name,'.csv')\n",
    "    \n",
    "    return(output_df)\n"
   ]
  },
  {
   "cell_type": "code",
   "execution_count": 35,
   "metadata": {},
   "outputs": [
    {
     "data": {
      "text/html": [
       "<div>\n",
       "<style scoped>\n",
       "    .dataframe tbody tr th:only-of-type {\n",
       "        vertical-align: middle;\n",
       "    }\n",
       "\n",
       "    .dataframe tbody tr th {\n",
       "        vertical-align: top;\n",
       "    }\n",
       "\n",
       "    .dataframe thead th {\n",
       "        text-align: right;\n",
       "    }\n",
       "</style>\n",
       "<table border=\"1\" class=\"dataframe\">\n",
       "  <thead>\n",
       "    <tr style=\"text-align: right;\">\n",
       "      <th></th>\n",
       "      <th>0</th>\n",
       "      <th>1</th>\n",
       "      <th>2</th>\n",
       "      <th>3</th>\n",
       "      <th>4</th>\n",
       "      <th>5</th>\n",
       "      <th>6</th>\n",
       "      <th>7</th>\n",
       "    </tr>\n",
       "  </thead>\n",
       "  <tbody>\n",
       "    <tr>\n",
       "      <th>0</th>\n",
       "      <td>1</td>\n",
       "      <td>2</td>\n",
       "      <td>3</td>\n",
       "      <td>4</td>\n",
       "      <td>2</td>\n",
       "      <td>3</td>\n",
       "      <td>1</td>\n",
       "      <td>3</td>\n",
       "    </tr>\n",
       "    <tr>\n",
       "      <th>1</th>\n",
       "      <td>1</td>\n",
       "      <td>2</td>\n",
       "      <td>3</td>\n",
       "      <td>4</td>\n",
       "      <td>2</td>\n",
       "      <td>3</td>\n",
       "      <td>1</td>\n",
       "      <td>3</td>\n",
       "    </tr>\n",
       "    <tr>\n",
       "      <th>2</th>\n",
       "      <td>1</td>\n",
       "      <td>2</td>\n",
       "      <td>3</td>\n",
       "      <td>4</td>\n",
       "      <td>2</td>\n",
       "      <td>3</td>\n",
       "      <td>1</td>\n",
       "      <td>3</td>\n",
       "    </tr>\n",
       "  </tbody>\n",
       "</table>\n",
       "</div>"
      ],
      "text/plain": [
       "   0  1  2  3  4  5  6  7\n",
       "0  1  2  3  4  2  3  1  3\n",
       "1  1  2  3  4  2  3  1  3\n",
       "2  1  2  3  4  2  3  1  3"
      ]
     },
     "execution_count": 35,
     "metadata": {},
     "output_type": "execute_result"
    }
   ],
   "source": [
    "ls1=[1,2,3,4,2,3,1,3]\n",
    "lst=[ls1, ls1,ls1]\n",
    "pd.DataFrame(lst)"
   ]
  },
  {
   "cell_type": "code",
   "execution_count": null,
   "metadata": {},
   "outputs": [],
   "source": [
    "pd.DataFrame()"
   ]
  },
  {
   "cell_type": "code",
   "execution_count": 28,
   "metadata": {},
   "outputs": [],
   "source": [
    "# Select number of compounds and make the well assigner\n",
    "NC=120\n",
    "WA=assign_wells_L(NC,differentiate=2)"
   ]
  },
  {
   "cell_type": "code",
   "execution_count": 10,
   "metadata": {},
   "outputs": [
    {
     "name": "stdout",
     "output_type": "stream",
     "text": [
      "To differentiate up to  2 postives requires on average  27.3  tests\n"
     ]
    }
   ],
   "source": [
    "dff=2\n",
    "MT=mean_tests(WA, dff)\n",
    "print('To differentiate up to ', dff, 'postives requires on average ', MT, ' tests' )"
   ]
  },
  {
   "cell_type": "code",
   "execution_count": 11,
   "metadata": {},
   "outputs": [],
   "source": [
    "WA=assign_wells_random(NC, 20, 22,100,2)"
   ]
  },
  {
   "cell_type": "code",
   "execution_count": 12,
   "metadata": {},
   "outputs": [
    {
     "name": "stdout",
     "output_type": "stream",
     "text": [
      "To differentiate up to  2 positives requires on average  22.49  tests\n"
     ]
    }
   ],
   "source": [
    "dff=2\n",
    "MT=mean_tests(WA, dff)\n",
    "print('To differentiate up to ', dff, 'positives requires on average ', np.round(MT,2), ' tests' )"
   ]
  },
  {
   "cell_type": "code",
   "execution_count": 59,
   "metadata": {},
   "outputs": [
    {
     "data": {
      "text/plain": [
       "(120, 27)"
      ]
     },
     "execution_count": 59,
     "metadata": {},
     "output_type": "execute_result"
    }
   ],
   "source": [
    "#check shape for consistency\n",
    "WA.shape"
   ]
  },
  {
   "cell_type": "code",
   "execution_count": 60,
   "metadata": {},
   "outputs": [
    {
     "name": "stdout",
     "output_type": "stream",
     "text": [
      "Compound [88] needs to be in wells [12 13 22 24 26]\n"
     ]
    }
   ],
   "source": [
    "#Print where a compound goes \n",
    "cp=np.random.randint(1,WA.shape[0]+1,1)\n",
    "well_cp=from_compound_get_wells(cp,WA)\n",
    "print('Compound', cp, 'needs to be in wells', well_cp)"
   ]
  },
  {
   "cell_type": "code",
   "execution_count": 61,
   "metadata": {},
   "outputs": [
    {
     "name": "stdout",
     "output_type": "stream",
     "text": [
      "In well [5] need to go compunds [  6  13  15  16  38  58  62  79  85  87 106 107 115 116]\n"
     ]
    }
   ],
   "source": [
    "# Get all compounds for a well\n",
    "wl=np.random.randint(1,WA.shape[1]+1,1)\n",
    "cp_well=from_well_get_compuonds(wl,WA)\n",
    "print('In well', wl, 'need to go compunds', cp_well)"
   ]
  },
  {
   "cell_type": "code",
   "execution_count": 62,
   "metadata": {},
   "outputs": [],
   "source": [
    "# Check answer ambiguity\n",
    "tf, WAS, countss= is_consistent(WA, 2)"
   ]
  },
  {
   "cell_type": "code",
   "execution_count": 63,
   "metadata": {},
   "outputs": [
    {
     "data": {
      "image/png": "[encoded data removed]",
      "text/plain": [
       "<Figure size 640x480 with 1 Axes>"
      ]
     },
     "metadata": {},
     "output_type": "display_data"
    }
   ],
   "source": [
    "#Plot ambiguity\n",
    "plt.hist(countss)\n",
    "plt.xlabel('Possible ways to create an outcome readout')\n",
    "plt.show()"
   ]
  },
  {
   "cell_type": "code",
   "execution_count": 66,
   "metadata": {},
   "outputs": [
    {
     "name": "stdout",
     "output_type": "stream",
     "text": [
      "with this assignment method on average  1.5 tests are needed\n"
     ]
    }
   ],
   "source": [
    "avg_tst=avg_tests(countss)\n",
    "print('with this assignment method on average ', np.round(avg_tst,2),'tests are needed')"
   ]
  },
  {
   "cell_type": "code",
   "execution_count": 65,
   "metadata": {},
   "outputs": [
    {
     "name": "stdout",
     "output_type": "stream",
     "text": [
      "with this assignment method 25.0 % of outcomes will lead to an ambiguous interpretation\n"
     ]
    }
   ],
   "source": [
    "pr1=np.sum(countss[countss>1])/np.sum(countss)\n",
    "#pr2=1-np.sum(countss[countss==1])/len(countss)\n",
    "print('with this assignment method', np.round(pr1*100),'% of outcomes will lead to an ambiguous interpretation')"
   ]
  },
  {
   "cell_type": "markdown",
   "metadata": {},
   "source": [
    "Do the same for the matrix like well construction"
   ]
  },
  {
   "cell_type": "code",
   "execution_count": 33,
   "metadata": {},
   "outputs": [],
   "source": [
    "WAM=assign_wells_mat(120)"
   ]
  },
  {
   "cell_type": "code",
   "execution_count": 34,
   "metadata": {},
   "outputs": [
    {
     "data": {
      "text/plain": [
       "(120, 22)"
      ]
     },
     "execution_count": 34,
     "metadata": {},
     "output_type": "execute_result"
    }
   ],
   "source": [
    "WAM.shape"
   ]
  },
  {
   "cell_type": "code",
   "execution_count": 37,
   "metadata": {},
   "outputs": [],
   "source": [
    "tf, WAT, countsm= is_consistent(WAM, 3)"
   ]
  },
  {
   "cell_type": "code",
   "execution_count": 38,
   "metadata": {},
   "outputs": [
    {
     "data": {
      "image/png": "[encoded data removed]",
      "text/plain": [
       "<Figure size 640x480 with 1 Axes>"
      ]
     },
     "metadata": {},
     "output_type": "display_data"
    }
   ],
   "source": [
    "plt.hist(countsm)\n",
    "plt.xlabel('Possible ways to create an outcome readout')\n",
    "plt.show()"
   ]
  },
  {
   "cell_type": "code",
   "execution_count": 35,
   "metadata": {},
   "outputs": [
    {
     "name": "stdout",
     "output_type": "stream",
     "text": [
      "with this assignment method from 67.0 to 81.0 % of outcomes will lead to an ambiguous interpretation\n"
     ]
    }
   ],
   "source": [
    "pr1=np.sum(countsm[countsm>1])/np.sum(countsm)\n",
    "pr2=1-np.sum(countsm[countsm==1])/len(countsm)\n",
    "print('with this assignment method from',np.round(pr2*100) ,'to', np.round(pr1*100),'% of outcomes will lead to an ambiguous interpretation')"
   ]
  },
  {
   "cell_type": "code",
   "execution_count": null,
   "metadata": {},
   "outputs": [],
   "source": [
    "cp=np.random.randint(1,WA.shape[0]+1,1)\n",
    "well_cp=from_compound_get_wells(cp,WA)\n",
    "print('Compound', cp, 'needs to be in wells', well_cp)"
   ]
  },
  {
   "cell_type": "code",
   "execution_count": null,
   "metadata": {},
   "outputs": [],
   "source": [
    "wl=np.random.randint(1,WA.shape[1]+1,1)\n",
    "cp_well=from_well_get_compuonds(wl,WA)\n",
    "print('In well', wl, 'need to go compunds', cp_well)"
   ]
  },
  {
   "cell_type": "code",
   "execution_count": 29,
   "metadata": {},
   "outputs": [],
   "source": [
    "WA=assign_wells_STD(n_compounds=120, differentiate=1)"
   ]
  },
  {
   "cell_type": "code",
   "execution_count": 30,
   "metadata": {},
   "outputs": [
    {
     "data": {
      "text/plain": [
       "(120, 15)"
      ]
     },
     "execution_count": 30,
     "metadata": {},
     "output_type": "execute_result"
    }
   ],
   "source": [
    "WA.shape"
   ]
  },
  {
   "cell_type": "code",
   "execution_count": 31,
   "metadata": {},
   "outputs": [],
   "source": [
    "tf, WASTD, countstd= is_consistent(WA, 1)"
   ]
  },
  {
   "cell_type": "code",
   "execution_count": 32,
   "metadata": {},
   "outputs": [
    {
     "data": {
      "image/png": "[encoded data removed]",
      "text/plain": [
       "<Figure size 640x480 with 1 Axes>"
      ]
     },
     "metadata": {},
     "output_type": "display_data"
    }
   ],
   "source": [
    "plt.hist(countstd)\n",
    "plt.xlabel('Possible ways to create an outcome readout')\n",
    "plt.show()"
   ]
  },
  {
   "cell_type": "code",
   "execution_count": 94,
   "metadata": {},
   "outputs": [
    {
     "name": "stdout",
     "output_type": "stream",
     "text": [
      "In well [2] need to go compunds [  2   7  12  17  22  27  32  37  42  47  52  57  62  67  72  77  82  87\n",
      "  92  97 102 107 112 117]\n"
     ]
    }
   ],
   "source": [
    "wl=np.random.randint(1,WA.shape[1]+1,1)\n",
    "cp_well=from_well_get_compuonds(wl,WA)\n",
    "print('In well', wl, 'need to go compunds', cp_well)"
   ]
  },
  {
   "cell_type": "code",
   "execution_count": 326,
   "metadata": {},
   "outputs": [],
   "source": [
    "# use the force_q argument to pass a known q, it will be used only if it satisfies the requirements\n",
    "WA=assign_wells_STD(n_compounds=120, differentiate=1, force_q=11)"
   ]
  },
  {
   "cell_type": "code",
   "execution_count": 327,
   "metadata": {},
   "outputs": [],
   "source": [
    "tf, WASTD, countstd= is_consistent(WA, 2)"
   ]
  },
  {
   "cell_type": "code",
   "execution_count": 328,
   "metadata": {},
   "outputs": [
    {
     "data": {
      "image/png": "[encoded data removed]",
      "text/plain": [
       "<Figure size 640x480 with 1 Axes>"
      ]
     },
     "metadata": {},
     "output_type": "display_data"
    }
   ],
   "source": [
    "plt.hist(countstd)\n",
    "plt.xlabel('Possible ways to create an outcome readout')\n",
    "plt.show()"
   ]
  },
  {
   "cell_type": "code",
   "execution_count": 330,
   "metadata": {},
   "outputs": [
    {
     "name": "stdout",
     "output_type": "stream",
     "text": [
      "The possible compounds to be active are [(5, 67), (84, 117)]\n"
     ]
    }
   ],
   "source": [
    "rw=np.random.randint(WASTD.shape[0])\n",
    "res=WASTD[rw,:]#.reshape(1,-1)\n",
    "\n",
    "decoded=decode(WA,res,2)\n",
    "\n",
    "print('The possible compounds to be active are', decoded)"
   ]
  }
 ],
 "metadata": {
  "kernelspec": {
   "display_name": "Python 3 (ipykernel)",
   "language": "python",
   "name": "python3"
  },
  "language_info": {
   "codemirror_mode": {
    "name": "ipython",
    "version": 3
   },
   "file_extension": ".py",
   "mimetype": "text/x-python",
   "name": "python",
   "nbconvert_exporter": "python",
   "pygments_lexer": "ipython3",
   "version": "3.8.13"
  }
 },
 "nbformat": 4,
 "nbformat_minor": 2
}
