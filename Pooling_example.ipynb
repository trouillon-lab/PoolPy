{
 "cells": [
  {
   "cell_type": "code",
   "execution_count": 2,
   "metadata": {},
   "outputs": [],
   "source": [
    "import numpy as np\n",
    "import matplotlib.pyplot as plt\n",
    "import math\n",
    "import re\n",
    "import itertools\n",
    "import pandas as pd\n",
    "import time\n",
    "import os\n",
    "import pickle\n",
    "from Functions import *"
   ]
  },
  {
   "cell_type": "code",
   "execution_count": 3,
   "metadata": {},
   "outputs": [],
   "source": [
    "# set number of compoinds\n",
    "NC=130\n",
    "#set nomber of positives\n",
    "D=2"
   ]
  },
  {
   "cell_type": "code",
   "execution_count": 4,
   "metadata": {},
   "outputs": [],
   "source": [
    "WA=assign_wells_mat(NC)"
   ]
  },
  {
   "cell_type": "code",
   "execution_count": 5,
   "metadata": {},
   "outputs": [
    {
     "data": {
      "text/plain": [
       "array([12, 12, 12, 12, 12, 12, 12, 12, 12, 12, 10,  0, 12, 12, 12, 12, 12,\n",
       "       12, 12, 12, 12, 11, 11])"
      ]
     },
     "execution_count": 5,
     "metadata": {},
     "output_type": "execute_result"
    }
   ],
   "source": [
    "np.sum(WA, axis=0)"
   ]
  },
  {
   "cell_type": "code",
   "execution_count": 6,
   "metadata": {},
   "outputs": [
    {
     "data": {
      "text/plain": [
       "(24.25684086905461, 1.2568408690546096, 1.7252595155709343, 86.0)"
      ]
     },
     "execution_count": 6,
     "metadata": {},
     "output_type": "execute_result"
    }
   ],
   "source": [
    "tf, WAS, countss= is_consistent(WA, D)\n",
    "mean_metrics(WA, D)"
   ]
  },
  {
   "cell_type": "code",
   "execution_count": 7,
   "metadata": {},
   "outputs": [
    {
     "data": {
      "image/png": "[encoded data removed]",
      "text/plain": [
       "<Figure size 640x480 with 1 Axes>"
      ]
     },
     "metadata": {},
     "output_type": "display_data"
    }
   ],
   "source": [
    "#Plot ambiguity\n",
    "plt.hist(countss)\n",
    "plt.xlabel('Possible ways to create an outcome readout')\n",
    "plt.show()"
   ]
  },
  {
   "cell_type": "code",
   "execution_count": 8,
   "metadata": {},
   "outputs": [
    {
     "ename": "KeyboardInterrupt",
     "evalue": "",
     "output_type": "error",
     "traceback": [
      "\u001b[0;31m---------------------------------------------------------------------------\u001b[0m",
      "\u001b[0;31mKeyboardInterrupt\u001b[0m                         Traceback (most recent call last)",
      "Cell \u001b[0;32mIn[8], line 2\u001b[0m\n\u001b[1;32m      1\u001b[0m \u001b[39m# for random we also need a few more parameters\u001b[39;00m\n\u001b[0;32m----> 2\u001b[0m WA\u001b[39m=\u001b[39massign_wells_random(NC,D, n_compounds_per_well\u001b[39m=\u001b[39;49m\u001b[39m15\u001b[39;49m, n_wells\u001b[39m=\u001b[39;49m\u001b[39m25\u001b[39;49m,guesses\u001b[39m=\u001b[39;49m\u001b[39m100\u001b[39;49m)\n",
      "File \u001b[0;32m~/My Drive/Git/pooling/Functions.py:148\u001b[0m, in \u001b[0;36massign_wells_random\u001b[0;34m(n_compounds, differentiate, n_compounds_per_well, n_wells, guesses, Evaluate, return_me, **kwargs)\u001b[0m\n\u001b[1;32m    144\u001b[0m         \u001b[39mreturn\u001b[39;00m best_wa,  min_tests\n\u001b[1;32m    146\u001b[0m     \u001b[39mreturn\u001b[39;00m best_wa\n\u001b[0;32m--> 148\u001b[0m _,_, min_tests, WA_rand\u001b[39m=\u001b[39mfind_rand_params(n_compounds\u001b[39m=\u001b[39;49mn_compounds, differentiate\u001b[39m=\u001b[39;49mdifferentiate, \n\u001b[1;32m    149\u001b[0m                              n_compounds_per_well\u001b[39m=\u001b[39;49mn_compounds_per_well, n_wells\u001b[39m=\u001b[39;49mn_wells, guesses\u001b[39m=\u001b[39;49mguesses)\n\u001b[1;32m    150\u001b[0m \u001b[39mif\u001b[39;00m return_me:\n\u001b[1;32m    151\u001b[0m     \u001b[39mreturn\u001b[39;00m WA_rand,  min_tests\n",
      "File \u001b[0;32m~/My Drive/Git/pooling/Functions.py:391\u001b[0m, in \u001b[0;36mfind_rand_params\u001b[0;34m(n_compounds, differentiate, n_compounds_per_well, n_wells, guesses, max_compounds, max_redundancy, min_redundancy)\u001b[0m\n\u001b[1;32m    388\u001b[0m \u001b[39mif\u001b[39;00m skip_wells:\n\u001b[1;32m    389\u001b[0m     \u001b[39mif\u001b[39;00m skip_compounds:\n\u001b[0;32m--> 391\u001b[0m         \u001b[39mreturn\u001b[39;00m n_compounds_per_well, n_wells, assign_wells_random(n_compounds\u001b[39m=\u001b[39;49mn_compounds, differentiate\u001b[39m=\u001b[39;49mdifferentiate, \n\u001b[1;32m    392\u001b[0m                                    n_compounds_per_well\u001b[39m=\u001b[39;49mn_compounds_per_well, n_wells\u001b[39m=\u001b[39;49mn_wells, guesses\u001b[39m=\u001b[39;49mguesses, Evaluate\u001b[39m=\u001b[39;49m\u001b[39mTrue\u001b[39;49;00m)\n\u001b[1;32m    393\u001b[0m     wells\u001b[39m=\u001b[39mn_wells\n\u001b[1;32m    395\u001b[0m \u001b[39mif\u001b[39;00m comp\u001b[39m*\u001b[39mwells\u001b[39m>\u001b[39mmax_redundancy\u001b[39m*\u001b[39mn_compounds \u001b[39mor\u001b[39;00m comp\u001b[39m*\u001b[39mwells\u001b[39m<\u001b[39mmin_redundancy\u001b[39m*\u001b[39mn_compounds: \u001b[39mcontinue\u001b[39;00m \n",
      "File \u001b[0;32m~/My Drive/Git/pooling/Functions.py:134\u001b[0m, in \u001b[0;36massign_wells_random\u001b[0;34m(n_compounds, differentiate, n_compounds_per_well, n_wells, guesses, Evaluate, return_me, **kwargs)\u001b[0m\n\u001b[1;32m    132\u001b[0m         \u001b[39mreturn\u001b[39;00m well_assigner, mean_exp\n\u001b[1;32m    133\u001b[0m     \u001b[39mreturn\u001b[39;00m well_assigner\n\u001b[0;32m--> 134\u001b[0m mean_exp, _, _, p_check\u001b[39m=\u001b[39m mean_metrics(well_assigner, differentiate)\n\u001b[1;32m    135\u001b[0m \u001b[39mif\u001b[39;00m p_check\u001b[39m<\u001b[39m\u001b[39m1\u001b[39m:\n\u001b[1;32m    136\u001b[0m     \u001b[39mif\u001b[39;00m return_me:\n",
      "File \u001b[0;32m~/My Drive/Git/pooling/Functions.py:337\u001b[0m, in \u001b[0;36mmean_metrics\u001b[0;34m(well_assigner, differentiate, **kwargs)\u001b[0m\n\u001b[1;32m    335\u001b[0m \u001b[39mdef\u001b[39;00m \u001b[39mmean_metrics\u001b[39m(well_assigner, differentiate, \u001b[39m*\u001b[39m\u001b[39m*\u001b[39mkwargs):\n\u001b[1;32m    336\u001b[0m     BT\u001b[39m=\u001b[39mwell_assigner\u001b[39m.\u001b[39mshape[\u001b[39m1\u001b[39m]\n\u001b[0;32m--> 337\u001b[0m     _,_, counts\u001b[39m=\u001b[39m is_consistent(well_assigner, differentiate) \n\u001b[1;32m    338\u001b[0m     ET\u001b[39m=\u001b[39mextra_tests(counts)   \n\u001b[1;32m    339\u001b[0m     rounds\u001b[39m=\u001b[39mnp\u001b[39m.\u001b[39msum(counts\u001b[39m>\u001b[39m\u001b[39m1\u001b[39m)\u001b[39m/\u001b[39mnp\u001b[39m.\u001b[39msum(counts\u001b[39m>\u001b[39m\u001b[39m0\u001b[39m)\u001b[39m+\u001b[39m\u001b[39m1\u001b[39m\n",
      "File \u001b[0;32m~/My Drive/Git/pooling/Functions.py:293\u001b[0m, in \u001b[0;36mis_consistent\u001b[0;34m(well_assigner, differentiate)\u001b[0m\n\u001b[1;32m    291\u001b[0m             temp_well_assigner[l,:]\u001b[39m=\u001b[39mnp\u001b[39m.\u001b[39msum(well_assigner[k,:], axis\u001b[39m=\u001b[39m\u001b[39m0\u001b[39m)\u001b[39m.\u001b[39mreshape(\u001b[39m1\u001b[39m,\u001b[39m-\u001b[39m\u001b[39m1\u001b[39m)\n\u001b[1;32m    292\u001b[0m         full_well_assigner\u001b[39m=\u001b[39mnp\u001b[39m.\u001b[39mconcatenate((full_well_assigner,temp_well_assigner))\n\u001b[0;32m--> 293\u001b[0m _, counts\u001b[39m=\u001b[39mnp\u001b[39m.\u001b[39;49munique(full_well_assigner, axis\u001b[39m=\u001b[39;49m\u001b[39m0\u001b[39;49m, return_counts\u001b[39m=\u001b[39;49m\u001b[39mTrue\u001b[39;49;00m)\n\u001b[1;32m    294\u001b[0m \u001b[39mif\u001b[39;00m np\u001b[39m.\u001b[39munique(full_well_assigner, axis\u001b[39m=\u001b[39m\u001b[39m0\u001b[39m)\u001b[39m.\u001b[39mshape[\u001b[39m0\u001b[39m]\u001b[39m<\u001b[39mfull_well_assigner\u001b[39m.\u001b[39mshape[\u001b[39m0\u001b[39m]:\n\u001b[1;32m    295\u001b[0m     \u001b[39mreturn\u001b[39;00m(\u001b[39mFalse\u001b[39;00m, full_well_assigner, counts)\n",
      "File \u001b[0;32m<__array_function__ internals>:180\u001b[0m, in \u001b[0;36munique\u001b[0;34m(*args, **kwargs)\u001b[0m\n",
      "File \u001b[0;32m~/mambaforge/envs/pooling/lib/python3.10/site-packages/numpy/lib/arraysetops.py:317\u001b[0m, in \u001b[0;36munique\u001b[0;34m(ar, return_index, return_inverse, return_counts, axis, equal_nan)\u001b[0m\n\u001b[1;32m    314\u001b[0m     uniq \u001b[39m=\u001b[39m np\u001b[39m.\u001b[39mmoveaxis(uniq, \u001b[39m0\u001b[39m, axis)\n\u001b[1;32m    315\u001b[0m     \u001b[39mreturn\u001b[39;00m uniq\n\u001b[0;32m--> 317\u001b[0m output \u001b[39m=\u001b[39m _unique1d(consolidated, return_index,\n\u001b[1;32m    318\u001b[0m                    return_inverse, return_counts, equal_nan\u001b[39m=\u001b[39;49mequal_nan)\n\u001b[1;32m    319\u001b[0m output \u001b[39m=\u001b[39m (reshape_uniq(output[\u001b[39m0\u001b[39m]),) \u001b[39m+\u001b[39m output[\u001b[39m1\u001b[39m:]\n\u001b[1;32m    320\u001b[0m \u001b[39mreturn\u001b[39;00m _unpack_tuple(output)\n",
      "File \u001b[0;32m~/mambaforge/envs/pooling/lib/python3.10/site-packages/numpy/lib/arraysetops.py:336\u001b[0m, in \u001b[0;36m_unique1d\u001b[0;34m(ar, return_index, return_inverse, return_counts, equal_nan)\u001b[0m\n\u001b[1;32m    334\u001b[0m     aux \u001b[39m=\u001b[39m ar[perm]\n\u001b[1;32m    335\u001b[0m \u001b[39melse\u001b[39;00m:\n\u001b[0;32m--> 336\u001b[0m     ar\u001b[39m.\u001b[39;49msort()\n\u001b[1;32m    337\u001b[0m     aux \u001b[39m=\u001b[39m ar\n\u001b[1;32m    338\u001b[0m mask \u001b[39m=\u001b[39m np\u001b[39m.\u001b[39mempty(aux\u001b[39m.\u001b[39mshape, dtype\u001b[39m=\u001b[39mnp\u001b[39m.\u001b[39mbool_)\n",
      "\u001b[0;31mKeyboardInterrupt\u001b[0m: "
     ]
    }
   ],
   "source": [
    "# for random we also need a few more parameters\n",
    "WA=assign_wells_random(NC,D, n_compounds_per_well=15, n_wells=25,guesses=100)"
   ]
  },
  {
   "cell_type": "code",
   "execution_count": null,
   "metadata": {},
   "outputs": [],
   "source": [
    "\n",
    "#MT=mean_tests(WA, dff)\n",
    "mean_exp, _, perc_check= mean_metrics(WA, D)\n",
    "print('To differentiate up to ', D, 'positives requires on average ', np.round(mean_exp,2), \n",
    "      ' tests with a probability of ', perc_check, '% of needing two rounds of testing' )\n"
   ]
  },
  {
   "cell_type": "code",
   "execution_count": null,
   "metadata": {},
   "outputs": [],
   "source": [
    "#check shape for consistency\n",
    "WA.shape"
   ]
  },
  {
   "cell_type": "code",
   "execution_count": null,
   "metadata": {},
   "outputs": [],
   "source": [
    "#Print where a compound goes \n",
    "cp=np.random.randint(1,WA.shape[0]+1,1)\n",
    "well_cp=from_compound_get_wells(cp,WA)\n",
    "print('Compound', cp, 'needs to be in wells', well_cp)"
   ]
  },
  {
   "cell_type": "code",
   "execution_count": null,
   "metadata": {},
   "outputs": [],
   "source": [
    "# Get all compounds for a well\n",
    "wl=np.random.randint(1,WA.shape[1]+1,1)\n",
    "cp_well=from_well_get_compuonds(wl,WA)\n",
    "print('In well', wl, 'need to go compunds', cp_well)"
   ]
  },
  {
   "cell_type": "code",
   "execution_count": null,
   "metadata": {},
   "outputs": [],
   "source": [
    "# Check answer ambiguity\n",
    "tf, WAS, countss= is_consistent(WA, 2)"
   ]
  },
  {
   "cell_type": "code",
   "execution_count": null,
   "metadata": {},
   "outputs": [],
   "source": [
    "#Plot ambiguity\n",
    "plt.hist(countss)\n",
    "plt.xlabel('Possible ways to create an outcome readout')\n",
    "plt.show()"
   ]
  },
  {
   "cell_type": "code",
   "execution_count": null,
   "metadata": {},
   "outputs": [],
   "source": [
    "avg_tst=mean_tests(countss)\n",
    "print('with this assignment method on average ', np.round(avg_tst,2),'tests are needed')"
   ]
  },
  {
   "cell_type": "code",
   "execution_count": null,
   "metadata": {},
   "outputs": [],
   "source": [
    "pr1=np.sum(countss[countss>1])/np.sum(countss)\n",
    "#pr2=1-np.sum(countss[countss==1])/len(countss)\n",
    "print('with this assignment method', np.round(pr1*100),'% of outcomes will lead to an ambiguous interpretation')"
   ]
  },
  {
   "cell_type": "markdown",
   "metadata": {},
   "source": [
    "Do the same for the matrix like well construction"
   ]
  },
  {
   "cell_type": "code",
   "execution_count": null,
   "metadata": {},
   "outputs": [],
   "source": [
    "#multidimensional matrix well assignment\n",
    "WA=assign_wells_multidim(NC, n_dims=3)"
   ]
  },
  {
   "cell_type": "code",
   "execution_count": null,
   "metadata": {},
   "outputs": [],
   "source": [
    "tf, WAS, countst= is_consistent(WA, D)"
   ]
  },
  {
   "cell_type": "code",
   "execution_count": null,
   "metadata": {},
   "outputs": [],
   "source": [
    "plt.hist(countst)\n",
    "plt.xlabel('Possible ways to create an outcome readout')\n",
    "plt.show()"
   ]
  },
  {
   "cell_type": "code",
   "execution_count": null,
   "metadata": {},
   "outputs": [],
   "source": []
  },
  {
   "cell_type": "code",
   "execution_count": null,
   "metadata": {},
   "outputs": [],
   "source": [
    "cp=np.random.randint(1,WA.shape[0]+1,1)\n",
    "well_cp=from_compound_get_wells(cp,WA)\n",
    "print('Compound', cp, 'needs to be in wells', well_cp)"
   ]
  },
  {
   "cell_type": "code",
   "execution_count": null,
   "metadata": {},
   "outputs": [],
   "source": [
    "wl=np.random.randint(1,WA.shape[1]+1,1)\n",
    "cp_well=from_well_get_compuonds(wl,WA)\n",
    "print('In well', wl, 'need to go compunds', cp_well)"
   ]
  },
  {
   "cell_type": "code",
   "execution_count": 20,
   "metadata": {},
   "outputs": [],
   "source": [
    "\n",
    "def assign_wells_chinese(n_compounds:int,  differentiate:int, **kwargs)->np.array:\n",
    "    prod=1\n",
    "    n=1\n",
    "    primes=[]\n",
    "    c_id=np.arange(n_compounds) \n",
    "    while prod<n_compounds**differentiate:\n",
    "        n=n+1\n",
    "        if isprime(n):\n",
    "            prod=prod*n\n",
    "            primes.append(n)\n",
    "\n",
    "    WA=np.zeros((np.sum(primes), n_compounds))==1\n",
    "    past_primes=0\n",
    "    for prime in primes:\n",
    "        temp_wa=np.zeros((prime, n_compounds))==1\n",
    "        for x in range(prime):\n",
    "            ids=c_id%prime==x    \n",
    "            temp_wa[x, ids]=True\n",
    "        WA[past_primes:past_primes+prime,:]=temp_wa\n",
    "        past_primes=past_primes+prime\n",
    "\n",
    "    return(WA.T)\n"
   ]
  },
  {
   "cell_type": "code",
   "execution_count": 21,
   "metadata": {},
   "outputs": [
    {
     "name": "stdout",
     "output_type": "stream",
     "text": [
      "19\n"
     ]
    }
   ],
   "source": [
    "WA=assign_wells_STD(n_compounds=NC, differentiate=D)"
   ]
  },
  {
   "cell_type": "code",
   "execution_count": 10,
   "metadata": {},
   "outputs": [],
   "source": [
    "tf, WASTD, countstd= is_consistent(WA, D)"
   ]
  },
  {
   "cell_type": "code",
   "execution_count": 11,
   "metadata": {},
   "outputs": [
    {
     "data": {
      "image/png": "[encoded data removed]",
      "text/plain": [
       "<Figure size 640x480 with 1 Axes>"
      ]
     },
     "metadata": {},
     "output_type": "display_data"
    }
   ],
   "source": [
    "plt.hist(countstd)\n",
    "plt.xlabel('Possible ways to create an outcome readout')\n",
    "plt.show()"
   ]
  },
  {
   "cell_type": "code",
   "execution_count": 12,
   "metadata": {},
   "outputs": [
    {
     "name": "stdout",
     "output_type": "stream",
     "text": [
      "In well [32] need to go compunds [  4  14  17  27  30  40  43  51  61  64  74  84  87  97 105 108 118 121]\n"
     ]
    }
   ],
   "source": [
    "wl=np.random.randint(1,WA.shape[1]+1,1)\n",
    "cp_well=from_well_get_compuonds(wl,WA)\n",
    "print('In well', wl, 'need to go compunds', cp_well)"
   ]
  },
  {
   "cell_type": "code",
   "execution_count": 14,
   "metadata": {},
   "outputs": [
    {
     "data": {
      "text/plain": [
       "array([19, 19, 19, 19, 18, 18, 18, 19, 19, 19, 18, 18, 18, 19, 18, 18, 19,\n",
       "       19, 19, 19, 18, 18, 18, 19, 19, 19, 19, 18, 19, 19, 19, 18, 18, 18,\n",
       "       19])"
      ]
     },
     "execution_count": 14,
     "metadata": {},
     "output_type": "execute_result"
    }
   ],
   "source": [
    "np.sum(WA, axis=0)"
   ]
  },
  {
   "cell_type": "code",
   "execution_count": null,
   "metadata": {},
   "outputs": [],
   "source": []
  }
 ],
 "metadata": {
  "kernelspec": {
   "display_name": "Python 3 (ipykernel)",
   "language": "python",
   "name": "python3"
  },
  "language_info": {
   "codemirror_mode": {
    "name": "ipython",
    "version": 3
   },
   "file_extension": ".py",
   "mimetype": "text/x-python",
   "name": "python",
   "nbconvert_exporter": "python",
   "pygments_lexer": "ipython3",
   "version": "3.10.15"
  }
 },
 "nbformat": 4,
 "nbformat_minor": 2
}
