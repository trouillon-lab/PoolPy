{
 "cells": [
  {
   "cell_type": "code",
   "execution_count": null,
   "metadata": {},
   "outputs": [],
   "source": [
    "import numpy as np\n",
    "import matplotlib.pyplot as plt\n",
    "import math\n",
    "import re\n",
    "import itertools\n",
    "import pandas as pd\n",
    "import time\n",
    "import os\n",
    "import pickle\n",
    "from Functions import *"
   ]
  },
  {
   "cell_type": "code",
   "execution_count": null,
   "metadata": {},
   "outputs": [],
   "source": [
    "2+2\n"
   ]
  },
  {
   "cell_type": "code",
   "execution_count": null,
   "metadata": {},
   "outputs": [],
   "source": [
    "# set number of compoinds\n",
    "NC=130\n",
    "#set nomber of positives\n",
    "D=2"
   ]
  },
  {
   "cell_type": "code",
   "execution_count": null,
   "metadata": {},
   "outputs": [],
   "source": [
    "WA=assign_wells_mat(NC)"
   ]
  },
  {
   "cell_type": "code",
   "execution_count": null,
   "metadata": {},
   "outputs": [],
   "source": [
    "np.sum(WA, axis=0)"
   ]
  },
  {
   "cell_type": "code",
   "execution_count": null,
   "metadata": {},
   "outputs": [],
   "source": [
    "tf, WAS, countss= is_consistent(WA, D)\n",
    "mean_metrics(WA, D)"
   ]
  },
  {
   "cell_type": "code",
   "execution_count": null,
   "metadata": {},
   "outputs": [],
   "source": [
    "#Plot ambiguity\n",
    "plt.hist(countss)\n",
    "plt.xlabel('Possible ways to create an outcome readout')\n",
    "plt.show()"
   ]
  },
  {
   "cell_type": "code",
   "execution_count": null,
   "metadata": {},
   "outputs": [],
   "source": [
    "# for random we also need a few more parameters\n",
    "WA=assign_wells_random(NC,D, n_compounds_per_well=15, n_wells=25,guesses=100)"
   ]
  },
  {
   "cell_type": "code",
   "execution_count": null,
   "metadata": {},
   "outputs": [],
   "source": [
    "\n",
    "#MT=mean_tests(WA, dff)\n",
    "mean_exp, _, perc_check= mean_metrics(WA, D)\n",
    "print('To differentiate up to ', D, 'positives requires on average ', np.round(mean_exp,2), \n",
    "      ' tests with a probability of ', perc_check, '% of needing two rounds of testing' )\n"
   ]
  },
  {
   "cell_type": "code",
   "execution_count": null,
   "metadata": {},
   "outputs": [],
   "source": [
    "#check shape for consistency\n",
    "WA.shape"
   ]
  },
  {
   "cell_type": "code",
   "execution_count": null,
   "metadata": {},
   "outputs": [],
   "source": [
    "#Print where a compound goes \n",
    "cp=np.random.randint(1,WA.shape[0]+1,1)\n",
    "well_cp=from_compound_get_wells(cp,WA)\n",
    "print('Compound', cp, 'needs to be in wells', well_cp)"
   ]
  },
  {
   "cell_type": "code",
   "execution_count": null,
   "metadata": {},
   "outputs": [],
   "source": [
    "# Get all compounds for a well\n",
    "wl=np.random.randint(1,WA.shape[1]+1,1)\n",
    "cp_well=from_well_get_compuonds(wl,WA)\n",
    "print('In well', wl, 'need to go compunds', cp_well)"
   ]
  },
  {
   "cell_type": "code",
   "execution_count": null,
   "metadata": {},
   "outputs": [],
   "source": [
    "# Check answer ambiguity\n",
    "tf, WAS, countss= is_consistent(WA, 2)"
   ]
  },
  {
   "cell_type": "code",
   "execution_count": null,
   "metadata": {},
   "outputs": [],
   "source": [
    "#Plot ambiguity\n",
    "plt.hist(countss)\n",
    "plt.xlabel('Possible ways to create an outcome readout')\n",
    "plt.show()"
   ]
  },
  {
   "cell_type": "code",
   "execution_count": null,
   "metadata": {},
   "outputs": [],
   "source": [
    "avg_tst=mean_tests(countss)\n",
    "print('with this assignment method on average ', np.round(avg_tst,2),'tests are needed')"
   ]
  },
  {
   "cell_type": "code",
   "execution_count": null,
   "metadata": {},
   "outputs": [],
   "source": [
    "pr1=np.sum(countss[countss>1])/np.sum(countss)\n",
    "#pr2=1-np.sum(countss[countss==1])/len(countss)\n",
    "print('with this assignment method', np.round(pr1*100),'% of outcomes will lead to an ambiguous interpretation')"
   ]
  },
  {
   "cell_type": "markdown",
   "metadata": {},
   "source": [
    "Do the same for the matrix like well construction"
   ]
  },
  {
   "cell_type": "code",
   "execution_count": null,
   "metadata": {},
   "outputs": [],
   "source": [
    "#multidimensional matrix well assignment\n",
    "WA=assign_wells_multidim(NC, n_dims=3)"
   ]
  },
  {
   "cell_type": "code",
   "execution_count": null,
   "metadata": {},
   "outputs": [],
   "source": [
    "tf, WAS, countst= is_consistent(WA, D)"
   ]
  },
  {
   "cell_type": "code",
   "execution_count": null,
   "metadata": {},
   "outputs": [],
   "source": [
    "plt.hist(countst)\n",
    "plt.xlabel('Possible ways to create an outcome readout')\n",
    "plt.show()"
   ]
  },
  {
   "cell_type": "code",
   "execution_count": null,
   "metadata": {},
   "outputs": [],
   "source": []
  },
  {
   "cell_type": "code",
   "execution_count": null,
   "metadata": {},
   "outputs": [],
   "source": [
    "cp=np.random.randint(1,WA.shape[0]+1,1)\n",
    "well_cp=from_compound_get_wells(cp,WA)\n",
    "print('Compound', cp, 'needs to be in wells', well_cp)"
   ]
  },
  {
   "cell_type": "code",
   "execution_count": null,
   "metadata": {},
   "outputs": [],
   "source": [
    "wl=np.random.randint(1,WA.shape[1]+1,1)\n",
    "cp_well=from_well_get_compuonds(wl,WA)\n",
    "print('In well', wl, 'need to go compunds', cp_well)"
   ]
  },
  {
   "cell_type": "code",
   "execution_count": null,
   "metadata": {},
   "outputs": [],
   "source": [
    "WA=assign_wells_STD(n_compounds=2000, differentiate=1)\n"
   ]
  },
  {
   "cell_type": "code",
   "execution_count": null,
   "metadata": {},
   "outputs": [],
   "source": [
    "tf, WASTD, countstd= is_consistent(WA, D)"
   ]
  },
  {
   "cell_type": "code",
   "execution_count": null,
   "metadata": {},
   "outputs": [],
   "source": [
    "plt.hist(countstd)\n",
    "plt.xlabel('Possible ways to create an outcome readout')\n",
    "plt.show()"
   ]
  },
  {
   "cell_type": "code",
   "execution_count": null,
   "metadata": {},
   "outputs": [],
   "source": [
    "wl=np.random.randint(1,WA.shape[1]+1,1)\n",
    "cp_well=from_well_get_compuonds(wl,WA)\n",
    "print('In well', wl, 'need to go compunds', cp_well)"
   ]
  },
  {
   "cell_type": "code",
   "execution_count": 2,
   "metadata": {},
   "outputs": [],
   "source": [
    "import numpy as np\n",
    "import matplotlib.pyplot as plt\n",
    "import math\n",
    "import re\n",
    "import itertools\n",
    "import pandas as pd\n",
    "import time\n",
    "import os\n",
    "import pickle\n",
    "from Functions import *"
   ]
  },
  {
   "cell_type": "code",
   "execution_count": 134,
   "metadata": {},
   "outputs": [],
   "source": [
    "\n",
    "def uneven_wrapper(n_samps):\n",
    "    list_of_lists=[]\n",
    "    def uneven_splits_maker(n_samps, previous_l):\n",
    "        if n_samps<2:\n",
    "            pass\n",
    "        for ratio in np.arange(2,np.floor(n_samps/2)+1):\n",
    "            this_l=previous_l.copy()\n",
    "            this_l.append(int(ratio))\n",
    "            list_of_lists.append(this_l)\n",
    "            uneven_splits_maker(np.ceil(n_samps/ratio), this_l)\n",
    "\n",
    "    uneven_splits_maker(n_samps,[])\n",
    "    \n",
    "    \n",
    "    return(list_of_lists)\n",
    "        \n",
    "\n",
    "def iterative_uneven_splitter(id_samps, id_positives, ratios):\n",
    "    if len(ratios)==1:\n",
    "        ratio=ratios[0]\n",
    "        ratios=[np.inf]\n",
    "    else:\n",
    "        ratio=ratios[0]\n",
    "        ratios=ratios[1:]\n",
    "\n",
    "    if len(id_samps)<=ratio:\n",
    "        return(len(id_samps))\n",
    "\n",
    "    pools=list(split(id_samps, ratio))\n",
    "    partials=0\n",
    "    for pool in pools:\n",
    "        if len(set(pool).intersection(id_positives))>0:\n",
    "            partials+=iterative_uneven_splitter(pool,id_positives,ratios)\n",
    "    return(ratio+partials)\n",
    "\n"
   ]
  },
  {
   "cell_type": "code",
   "execution_count": 135,
   "metadata": {},
   "outputs": [],
   "source": [
    "ls_u=uneven_wrapper(20)"
   ]
  },
  {
   "cell_type": "code",
   "execution_count": 136,
   "metadata": {},
   "outputs": [
    {
     "data": {
      "text/plain": [
       "9"
      ]
     },
     "execution_count": 136,
     "metadata": {},
     "output_type": "execute_result"
    }
   ],
   "source": [
    "iterative_uneven_splitter(np.arange(20), [3], [2,3])"
   ]
  },
  {
   "cell_type": "code",
   "execution_count": 133,
   "metadata": {},
   "outputs": [
    {
     "data": {
      "text/plain": [
       "[[2, 1],\n",
       " [2, 2, 1],\n",
       " [2, 2, 2, 1],\n",
       " [2, 3, 1],\n",
       " [2, 3, 2, 1],\n",
       " [2, 4, 1],\n",
       " [2, 5, 1],\n",
       " [3, 1],\n",
       " [3, 2, 1],\n",
       " [3, 2, 2, 1],\n",
       " [3, 3, 1],\n",
       " [4, 1],\n",
       " [4, 2, 1],\n",
       " [5, 1],\n",
       " [5, 2, 1],\n",
       " [6, 1],\n",
       " [6, 2, 1],\n",
       " [7, 1],\n",
       " [8, 1],\n",
       " [9, 1],\n",
       " [10, 1]]"
      ]
     },
     "execution_count": 133,
     "metadata": {},
     "output_type": "execute_result"
    }
   ],
   "source": [
    "ls_u"
   ]
  },
  {
   "cell_type": "code",
   "execution_count": null,
   "metadata": {},
   "outputs": [],
   "source": []
  }
 ],
 "metadata": {
  "kernelspec": {
   "display_name": "Python 3 (ipykernel)",
   "language": "python",
   "name": "python3"
  },
  "language_info": {
   "codemirror_mode": {
    "name": "ipython",
    "version": 3
   },
   "file_extension": ".py",
   "mimetype": "text/x-python",
   "name": "python",
   "nbconvert_exporter": "python",
   "pygments_lexer": "ipython3",
   "version": "3.13.1"
  }
 },
 "nbformat": 4,
 "nbformat_minor": 2
}
